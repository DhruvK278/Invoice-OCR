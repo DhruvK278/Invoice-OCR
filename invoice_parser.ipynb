{
  "nbformat": 4,
  "nbformat_minor": 0,
  "metadata": {
    "colab": {
      "provenance": [],
      "authorship_tag": "ABX9TyP1yjGOunxjJeNHMheP67ri",
      "include_colab_link": true
    },
    "kernelspec": {
      "name": "python3",
      "display_name": "Python 3"
    },
    "language_info": {
      "name": "python"
    }
  },
  "cells": [
    {
      "cell_type": "markdown",
      "metadata": {
        "id": "view-in-github",
        "colab_type": "text"
      },
      "source": [
        "<a href=\"https://colab.research.google.com/github/DhruvK278/Invoice-OCR/blob/main/invoice_parser.ipynb\" target=\"_parent\"><img src=\"https://colab.research.google.com/assets/colab-badge.svg\" alt=\"Open In Colab\"/></a>"
      ]
    },
    {
      "cell_type": "code",
      "execution_count": null,
      "metadata": {
        "id": "GI2i-SuaQ2Jt"
      },
      "outputs": [],
      "source": [
        "!pip install pytesseract\n",
        "!sudo apt install tesseract-ocr"
      ]
    },
    {
      "cell_type": "code",
      "source": [
        "import cv2\n",
        "import matplotlib.pyplot as plt\n",
        "\n",
        "# The file is now in the root directory of the Colab session\n",
        "image_path = 'invoice-123.png'\n",
        "\n",
        "# Read and display the image\n",
        "try:\n",
        "    image = cv2.imread(image_path)\n",
        "    plt.imshow(cv2.cvtColor(image, cv2.COLOR_BGR2RGB))\n",
        "    plt.title(\"Uploaded Invoice\")\n",
        "    plt.axis('off')\n",
        "    plt.show()\n",
        "except Exception as e:\n",
        "    print(f\"Error loading image. Make sure '{image_path}' is uploaded correctly.\")\n",
        "    print(e)"
      ],
      "metadata": {
        "id": "d2m1zdPNSaeQ"
      },
      "execution_count": null,
      "outputs": []
    }
  ]
}