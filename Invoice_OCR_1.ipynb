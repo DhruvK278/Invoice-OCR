{
  "nbformat": 4,
  "nbformat_minor": 0,
  "metadata": {
    "colab": {
      "provenance": [],
      "authorship_tag": "ABX9TyP+VBacP1Q1WrifcweHYF4R",
      "include_colab_link": true
    },
    "kernelspec": {
      "name": "python3",
      "display_name": "Python 3"
    },
    "language_info": {
      "name": "python"
    }
  },
  "cells": [
    {
      "cell_type": "markdown",
      "metadata": {
        "id": "view-in-github",
        "colab_type": "text"
      },
      "source": [
        "<a href=\"https://colab.research.google.com/github/DhruvK278/Invoice-OCR/blob/main/Invoice_OCR_1.ipynb\" target=\"_parent\"><img src=\"https://colab.research.google.com/assets/colab-badge.svg\" alt=\"Open In Colab\"/></a>"
      ]
    },
    {
      "cell_type": "code",
      "execution_count": 14,
      "metadata": {
        "colab": {
          "base_uri": "https://localhost:8080/"
        },
        "id": "xtOl53tNo_xy",
        "outputId": "bd1e930e-f9f9-4adb-a950-93dd9cb84749"
      },
      "outputs": [
        {
          "output_type": "stream",
          "name": "stdout",
          "text": [
            "Requirement already satisfied: pytesseract in /usr/local/lib/python3.11/dist-packages (0.3.13)\n",
            "Requirement already satisfied: pillow in /usr/local/lib/python3.11/dist-packages (11.3.0)\n",
            "Requirement already satisfied: pandas in /usr/local/lib/python3.11/dist-packages (2.2.2)\n",
            "Requirement already satisfied: packaging>=21.3 in /usr/local/lib/python3.11/dist-packages (from pytesseract) (25.0)\n",
            "Requirement already satisfied: numpy>=1.23.2 in /usr/local/lib/python3.11/dist-packages (from pandas) (2.0.2)\n",
            "Requirement already satisfied: python-dateutil>=2.8.2 in /usr/local/lib/python3.11/dist-packages (from pandas) (2.9.0.post0)\n",
            "Requirement already satisfied: pytz>=2020.1 in /usr/local/lib/python3.11/dist-packages (from pandas) (2025.2)\n",
            "Requirement already satisfied: tzdata>=2022.7 in /usr/local/lib/python3.11/dist-packages (from pandas) (2025.2)\n",
            "Requirement already satisfied: six>=1.5 in /usr/local/lib/python3.11/dist-packages (from python-dateutil>=2.8.2->pandas) (1.17.0)\n",
            "Reading package lists... Done\n",
            "Building dependency tree... Done\n",
            "Reading state information... Done\n",
            "tesseract-ocr is already the newest version (4.1.1-2.1build1).\n",
            "0 upgraded, 0 newly installed, 0 to remove and 35 not upgraded.\n"
          ]
        }
      ],
      "source": [
        "!pip install pytesseract pillow pandas\n",
        "!sudo apt-get install tesseract-ocr -y\n",
        "\n",
        "import pytesseract\n",
        "from pytesseract import Output\n",
        "from PIL import Image\n",
        "import pandas as pd\n",
        "from google.colab import files"
      ]
    },
    {
      "cell_type": "code",
      "source": [
        "# =============================\n",
        "# Step 1: Upload image\n",
        "# =============================\n",
        "print(\"📂 Please upload your invoice image...\")\n",
        "uploaded = files.upload()\n",
        "\n",
        "image_path = list(uploaded.keys())[0]\n",
        "img = Image.open(image_path)"
      ],
      "metadata": {
        "colab": {
          "base_uri": "https://localhost:8080/",
          "height": 90
        },
        "id": "P3g9hGDupGit",
        "outputId": "57ccfc0c-bd78-484e-d1c5-5bbd18ec67ad"
      },
      "execution_count": 2,
      "outputs": [
        {
          "output_type": "stream",
          "name": "stdout",
          "text": [
            "📂 Please upload your invoice image...\n"
          ]
        },
        {
          "output_type": "display_data",
          "data": {
            "text/plain": [
              "<IPython.core.display.HTML object>"
            ],
            "text/html": [
              "\n",
              "     <input type=\"file\" id=\"files-3d191c0a-28af-436d-9baa-a92680b7d193\" name=\"files[]\" multiple disabled\n",
              "        style=\"border:none\" />\n",
              "     <output id=\"result-3d191c0a-28af-436d-9baa-a92680b7d193\">\n",
              "      Upload widget is only available when the cell has been executed in the\n",
              "      current browser session. Please rerun this cell to enable.\n",
              "      </output>\n",
              "      <script>// Copyright 2017 Google LLC\n",
              "//\n",
              "// Licensed under the Apache License, Version 2.0 (the \"License\");\n",
              "// you may not use this file except in compliance with the License.\n",
              "// You may obtain a copy of the License at\n",
              "//\n",
              "//      http://www.apache.org/licenses/LICENSE-2.0\n",
              "//\n",
              "// Unless required by applicable law or agreed to in writing, software\n",
              "// distributed under the License is distributed on an \"AS IS\" BASIS,\n",
              "// WITHOUT WARRANTIES OR CONDITIONS OF ANY KIND, either express or implied.\n",
              "// See the License for the specific language governing permissions and\n",
              "// limitations under the License.\n",
              "\n",
              "/**\n",
              " * @fileoverview Helpers for google.colab Python module.\n",
              " */\n",
              "(function(scope) {\n",
              "function span(text, styleAttributes = {}) {\n",
              "  const element = document.createElement('span');\n",
              "  element.textContent = text;\n",
              "  for (const key of Object.keys(styleAttributes)) {\n",
              "    element.style[key] = styleAttributes[key];\n",
              "  }\n",
              "  return element;\n",
              "}\n",
              "\n",
              "// Max number of bytes which will be uploaded at a time.\n",
              "const MAX_PAYLOAD_SIZE = 100 * 1024;\n",
              "\n",
              "function _uploadFiles(inputId, outputId) {\n",
              "  const steps = uploadFilesStep(inputId, outputId);\n",
              "  const outputElement = document.getElementById(outputId);\n",
              "  // Cache steps on the outputElement to make it available for the next call\n",
              "  // to uploadFilesContinue from Python.\n",
              "  outputElement.steps = steps;\n",
              "\n",
              "  return _uploadFilesContinue(outputId);\n",
              "}\n",
              "\n",
              "// This is roughly an async generator (not supported in the browser yet),\n",
              "// where there are multiple asynchronous steps and the Python side is going\n",
              "// to poll for completion of each step.\n",
              "// This uses a Promise to block the python side on completion of each step,\n",
              "// then passes the result of the previous step as the input to the next step.\n",
              "function _uploadFilesContinue(outputId) {\n",
              "  const outputElement = document.getElementById(outputId);\n",
              "  const steps = outputElement.steps;\n",
              "\n",
              "  const next = steps.next(outputElement.lastPromiseValue);\n",
              "  return Promise.resolve(next.value.promise).then((value) => {\n",
              "    // Cache the last promise value to make it available to the next\n",
              "    // step of the generator.\n",
              "    outputElement.lastPromiseValue = value;\n",
              "    return next.value.response;\n",
              "  });\n",
              "}\n",
              "\n",
              "/**\n",
              " * Generator function which is called between each async step of the upload\n",
              " * process.\n",
              " * @param {string} inputId Element ID of the input file picker element.\n",
              " * @param {string} outputId Element ID of the output display.\n",
              " * @return {!Iterable<!Object>} Iterable of next steps.\n",
              " */\n",
              "function* uploadFilesStep(inputId, outputId) {\n",
              "  const inputElement = document.getElementById(inputId);\n",
              "  inputElement.disabled = false;\n",
              "\n",
              "  const outputElement = document.getElementById(outputId);\n",
              "  outputElement.innerHTML = '';\n",
              "\n",
              "  const pickedPromise = new Promise((resolve) => {\n",
              "    inputElement.addEventListener('change', (e) => {\n",
              "      resolve(e.target.files);\n",
              "    });\n",
              "  });\n",
              "\n",
              "  const cancel = document.createElement('button');\n",
              "  inputElement.parentElement.appendChild(cancel);\n",
              "  cancel.textContent = 'Cancel upload';\n",
              "  const cancelPromise = new Promise((resolve) => {\n",
              "    cancel.onclick = () => {\n",
              "      resolve(null);\n",
              "    };\n",
              "  });\n",
              "\n",
              "  // Wait for the user to pick the files.\n",
              "  const files = yield {\n",
              "    promise: Promise.race([pickedPromise, cancelPromise]),\n",
              "    response: {\n",
              "      action: 'starting',\n",
              "    }\n",
              "  };\n",
              "\n",
              "  cancel.remove();\n",
              "\n",
              "  // Disable the input element since further picks are not allowed.\n",
              "  inputElement.disabled = true;\n",
              "\n",
              "  if (!files) {\n",
              "    return {\n",
              "      response: {\n",
              "        action: 'complete',\n",
              "      }\n",
              "    };\n",
              "  }\n",
              "\n",
              "  for (const file of files) {\n",
              "    const li = document.createElement('li');\n",
              "    li.append(span(file.name, {fontWeight: 'bold'}));\n",
              "    li.append(span(\n",
              "        `(${file.type || 'n/a'}) - ${file.size} bytes, ` +\n",
              "        `last modified: ${\n",
              "            file.lastModifiedDate ? file.lastModifiedDate.toLocaleDateString() :\n",
              "                                    'n/a'} - `));\n",
              "    const percent = span('0% done');\n",
              "    li.appendChild(percent);\n",
              "\n",
              "    outputElement.appendChild(li);\n",
              "\n",
              "    const fileDataPromise = new Promise((resolve) => {\n",
              "      const reader = new FileReader();\n",
              "      reader.onload = (e) => {\n",
              "        resolve(e.target.result);\n",
              "      };\n",
              "      reader.readAsArrayBuffer(file);\n",
              "    });\n",
              "    // Wait for the data to be ready.\n",
              "    let fileData = yield {\n",
              "      promise: fileDataPromise,\n",
              "      response: {\n",
              "        action: 'continue',\n",
              "      }\n",
              "    };\n",
              "\n",
              "    // Use a chunked sending to avoid message size limits. See b/62115660.\n",
              "    let position = 0;\n",
              "    do {\n",
              "      const length = Math.min(fileData.byteLength - position, MAX_PAYLOAD_SIZE);\n",
              "      const chunk = new Uint8Array(fileData, position, length);\n",
              "      position += length;\n",
              "\n",
              "      const base64 = btoa(String.fromCharCode.apply(null, chunk));\n",
              "      yield {\n",
              "        response: {\n",
              "          action: 'append',\n",
              "          file: file.name,\n",
              "          data: base64,\n",
              "        },\n",
              "      };\n",
              "\n",
              "      let percentDone = fileData.byteLength === 0 ?\n",
              "          100 :\n",
              "          Math.round((position / fileData.byteLength) * 100);\n",
              "      percent.textContent = `${percentDone}% done`;\n",
              "\n",
              "    } while (position < fileData.byteLength);\n",
              "  }\n",
              "\n",
              "  // All done.\n",
              "  yield {\n",
              "    response: {\n",
              "      action: 'complete',\n",
              "    }\n",
              "  };\n",
              "}\n",
              "\n",
              "scope.google = scope.google || {};\n",
              "scope.google.colab = scope.google.colab || {};\n",
              "scope.google.colab._files = {\n",
              "  _uploadFiles,\n",
              "  _uploadFilesContinue,\n",
              "};\n",
              "})(self);\n",
              "</script> "
            ]
          },
          "metadata": {}
        },
        {
          "output_type": "stream",
          "name": "stdout",
          "text": [
            "Saving invoice.jpg to invoice.jpg\n"
          ]
        }
      ]
    },
    {
      "cell_type": "code",
      "source": [
        "# Step 2: OCR full data\n",
        "# =============================\n",
        "ocr_data = pytesseract.image_to_data(img, output_type=Output.DATAFRAME)\n",
        "ocr_data = ocr_data.dropna(subset=['text'])"
      ],
      "metadata": {
        "id": "ULLpkzYTpH9P"
      },
      "execution_count": 3,
      "outputs": []
    },
    {
      "cell_type": "code",
      "source": [
        "# Step 3: Find header row dynamically\n",
        "# =============================\n",
        "header_row = ocr_data[ocr_data['text'].str.contains(\"Description\", case=False, na=False)]\n",
        "if header_row.empty:\n",
        "    raise ValueError(\"❌ Could not find header row. Check OCR output.\")\n",
        "\n",
        "header_y = header_row.iloc[0]['top']\n",
        "\n",
        "# Get all words in header line\n",
        "header_words = ocr_data[(ocr_data['top'] >= header_y - 5) & (ocr_data['top'] <= header_y + 5)]\n",
        "\n",
        "# Create sorted list of x positions for columns\n",
        "col_positions = sorted(header_words['left'].tolist())\n",
        "\n",
        "# Map column names from OCR\n",
        "column_names = []\n",
        "for _, row in header_words.iterrows():\n",
        "    column_names.append(row['text'])\n",
        "\n",
        "# Keep only rows below header\n",
        "table_data = ocr_data[ocr_data['top'] > header_y + 5]\n"
      ],
      "metadata": {
        "id": "M5T2TKmUpcbj"
      },
      "execution_count": 4,
      "outputs": []
    },
    {
      "cell_type": "code",
      "source": [
        "# Step 4: Group words into lines\n",
        "# =============================\n",
        "lines = []\n",
        "current_line = []\n",
        "last_top = None\n",
        "\n",
        "for _, row in table_data.iterrows():\n",
        "    if last_top is None or abs(row['top'] - last_top) <= 10:\n",
        "        current_line.append(row)\n",
        "    else:\n",
        "        lines.append(current_line)\n",
        "        current_line = [row]\n",
        "    last_top = row['top']\n",
        "if current_line:\n",
        "    lines.append(current_line)"
      ],
      "metadata": {
        "id": "__c9Yxqwpdnv"
      },
      "execution_count": 5,
      "outputs": []
    },
    {
      "cell_type": "code",
      "source": [
        "# Step 5: Assign words to closest header column\n",
        "# =============================\n",
        "def assign_columns(line, header_positions, headers):\n",
        "    row_data = {h: \"\" for h in headers}\n",
        "    for _, word in pd.DataFrame(line).iterrows():\n",
        "        distances = [abs(word['left'] - hp) for hp in header_positions]\n",
        "        col_idx = distances.index(min(distances))\n",
        "        header = headers[col_idx]\n",
        "        row_data[header] += (\" \" if row_data[header] else \"\") + word['text']\n",
        "    return row_data\n",
        "\n",
        "rows = [assign_columns(line, col_positions, column_names) for line in lines]\n"
      ],
      "metadata": {
        "id": "1pgJTkrbpjCR"
      },
      "execution_count": 6,
      "outputs": []
    },
    {
      "cell_type": "code",
      "source": [
        "import re\n",
        "\n",
        "def merge_multiline_rows(rows, key_col=\"No.\", desc_col=\"Description\"):\n",
        "    merged_rows = []\n",
        "    for row in rows:\n",
        "        if not row[key_col].strip():\n",
        "            # Continuation line — append to last row's description\n",
        "            if merged_rows:\n",
        "                merged_rows[-1][desc_col] += \" \" + row[desc_col]\n",
        "        else:\n",
        "            merged_rows.append(row)\n",
        "    return merged_rows\n",
        "\n",
        "# Assign columns (same as before)\n",
        "rows = [assign_columns(line, col_positions, column_names) for line in lines]\n",
        "\n",
        "# Merge multiline descriptions\n",
        "rows = merge_multiline_rows(rows, key_col=column_names[0], desc_col=column_names[1])\n",
        "\n",
        "# Build DataFrame\n",
        "df = pd.DataFrame(rows)\n",
        "df = df.map(lambda x: x.strip() if isinstance(x, str) else x)\n",
        "\n",
        "print(\"\\n✅ --- Cleaned Table with Merged Descriptions ---\\n\")\n",
        "print(df)\n"
      ],
      "metadata": {
        "colab": {
          "base_uri": "https://localhost:8080/"
        },
        "id": "Hgt7jLGON0M2",
        "outputId": "42e8da11-eeae-413b-a30b-68b470c06667"
      },
      "execution_count": 9,
      "outputs": [
        {
          "output_type": "stream",
          "name": "stdout",
          "text": [
            "\n",
            "✅ --- Cleaned Table with Merged Descriptions ---\n",
            "\n",
            "       No.                                        Description  \\\n",
            "0      ils  6'x3' Marble Counter Dining Table Top Multi Fu...   \n",
            "1       2.  30 Inches Floral Art Table Top Round Marble Ta...   \n",
            "2        a  6'x3' Black Marble Inlaid Center Table Top Pea...   \n",
            "3       4.  Luxurious Pattern Stone Table Top Marble Confe...   \n",
            "4       Sy  36 Inches Marble Dinning Top Inlay Meeting Tab...   \n",
            "5       6.  Semi precious Stone Dinning Table Top Marble K...   \n",
            "6       Ee                                  Used t shirt Blue   \n",
            "7  SUMMARY                                                      \n",
            "\n",
            "                  Qty UM Net price worth VAT [%] Gross  \n",
            "0         Height 4,00                                   \n",
            "1  Inlaid Coffee 5,00                                   \n",
            "2         Dining 4,00                                   \n",
            "3        Dinning 1,00                                   \n",
            "4          Table 1,00                                   \n",
            "5    Work Inlaid 5,00                                   \n",
            "6                1,00                                   \n",
            "7                                                       \n"
          ]
        }
      ]
    },
    {
      "cell_type": "code",
      "source": [
        "# Step 6: Create DataFrame\n",
        "# =============================\n",
        "df = pd.DataFrame(rows)\n",
        "df = df.applymap(lambda x: x.strip() if isinstance(x, str) else x)\n",
        "\n",
        "print(\"\\n✅ --- Parsed Table ---\\n\")\n",
        "print(df)"
      ],
      "metadata": {
        "colab": {
          "base_uri": "https://localhost:8080/"
        },
        "id": "fGeUbtcZpltl",
        "outputId": "dd712177-20dd-4c2d-eea7-1413bdcd2f52"
      },
      "execution_count": 10,
      "outputs": [
        {
          "output_type": "stream",
          "name": "stdout",
          "text": [
            "\n",
            "✅ --- Parsed Table ---\n",
            "\n",
            "       No.                                        Description  \\\n",
            "0      ils  6'x3' Marble Counter Dining Table Top Multi Fu...   \n",
            "1       2.  30 Inches Floral Art Table Top Round Marble Ta...   \n",
            "2        a  6'x3' Black Marble Inlaid Center Table Top Pea...   \n",
            "3       4.  Luxurious Pattern Stone Table Top Marble Confe...   \n",
            "4       Sy  36 Inches Marble Dinning Top Inlay Meeting Tab...   \n",
            "5       6.  Semi precious Stone Dinning Table Top Marble K...   \n",
            "6       Ee                                  Used t shirt Blue   \n",
            "7  SUMMARY                                                      \n",
            "\n",
            "                  Qty UM Net price worth VAT [%] Gross  \n",
            "0         Height 4,00                                   \n",
            "1  Inlaid Coffee 5,00                                   \n",
            "2         Dining 4,00                                   \n",
            "3        Dinning 1,00                                   \n",
            "4          Table 1,00                                   \n",
            "5    Work Inlaid 5,00                                   \n",
            "6                1,00                                   \n",
            "7                                                       \n"
          ]
        },
        {
          "output_type": "stream",
          "name": "stderr",
          "text": [
            "/tmp/ipython-input-4159926966.py:4: FutureWarning: DataFrame.applymap has been deprecated. Use DataFrame.map instead.\n",
            "  df = df.applymap(lambda x: x.strip() if isinstance(x, str) else x)\n"
          ]
        }
      ]
    },
    {
      "cell_type": "code",
      "source": [
        "# =============================\n",
        "# 📌 Step 8: Create clean DataFrame\n",
        "# =============================\n",
        "df = pd.DataFrame(rows)\n",
        "df = df.applymap(lambda x: x.strip() if isinstance(x, str) else x)\n",
        "\n",
        "print(\"\\n✅ --- Parsed Table ---\\n\")\n",
        "print(df)"
      ],
      "metadata": {
        "colab": {
          "base_uri": "https://localhost:8080/"
        },
        "id": "I4172s6_sAlJ",
        "outputId": "0094ada7-4c38-47a6-f6a1-2dbf33fef126"
      },
      "execution_count": 11,
      "outputs": [
        {
          "output_type": "stream",
          "name": "stdout",
          "text": [
            "\n",
            "✅ --- Parsed Table ---\n",
            "\n",
            "       No.                                        Description  \\\n",
            "0      ils  6'x3' Marble Counter Dining Table Top Multi Fu...   \n",
            "1       2.  30 Inches Floral Art Table Top Round Marble Ta...   \n",
            "2        a  6'x3' Black Marble Inlaid Center Table Top Pea...   \n",
            "3       4.  Luxurious Pattern Stone Table Top Marble Confe...   \n",
            "4       Sy  36 Inches Marble Dinning Top Inlay Meeting Tab...   \n",
            "5       6.  Semi precious Stone Dinning Table Top Marble K...   \n",
            "6       Ee                                  Used t shirt Blue   \n",
            "7  SUMMARY                                                      \n",
            "\n",
            "                  Qty UM Net price worth VAT [%] Gross  \n",
            "0         Height 4,00                                   \n",
            "1  Inlaid Coffee 5,00                                   \n",
            "2         Dining 4,00                                   \n",
            "3        Dinning 1,00                                   \n",
            "4          Table 1,00                                   \n",
            "5    Work Inlaid 5,00                                   \n",
            "6                1,00                                   \n",
            "7                                                       \n"
          ]
        },
        {
          "output_type": "stream",
          "name": "stderr",
          "text": [
            "/tmp/ipython-input-2085709572.py:5: FutureWarning: DataFrame.applymap has been deprecated. Use DataFrame.map instead.\n",
            "  df = df.applymap(lambda x: x.strip() if isinstance(x, str) else x)\n"
          ]
        }
      ]
    }
  ]
}